{
 "cells": [
  {
   "cell_type": "markdown",
   "id": "17ebc717",
   "metadata": {},
   "source": [
    "# Lecture 2: JIT-compilation, Functional Programming and Gradients"
   ]
  },
  {
   "cell_type": "markdown",
   "id": "b98ed3f4",
   "metadata": {},
   "source": [
    "## Just-In-Time (JIT) compilation\n",
    "\n",
    "### What is JIT compilation?\n",
    "\n",
    "Just-In-Time (JIT) compilation is a technique used to improve the performance of code at runtime. When a function is JIT compiled, it is transformed from its original form into optimized machine code, allowing it to execute more efficiently. JAX's JIT compiler operates on Python functions, analyzing and optimizing them for improved performance.\n",
    "The JAX just-in-time (JIT) compiler accelerates logic within functions by fusing linear\n",
    "algebra operations into a single optimized kernel that the host can\n",
    "launch on the GPU / TPU (or CPU if no accelerator is detected).\n",
    "\n",
    "### Benefits of JIT Compilation\n",
    "\n",
    "- **Faster Execution**: JIT compilation can significantly speed up the execution of numerical code by optimizing it for the underlying hardware.\n",
    "- **Reduced Overhead**: Compiled functions have lower overhead compared to interpreted Python code, leading to improved performance.\n",
    "- **Dynamic Optimization**: JIT compilers can adaptively optimize code based on runtime characteristics, leading to better performance in real-world scenarios.\n",
    "\n",
    "### How to Use JIT Compilation with JAX?\n",
    "\n",
    "JAX provides the `jit` function, which can be used to JIT compile a Python function.\n",
    "\n",
    "\n",
    "Let's start with an example"
   ]
  },
  {
   "cell_type": "code",
   "execution_count": 12,
   "id": "ffd9d0db",
   "metadata": {},
   "outputs": [],
   "source": [
    "import jax\n",
    "import jax.numpy as jnp"
   ]
  },
  {
   "cell_type": "code",
   "execution_count": 4,
   "id": "cfb1f2f6",
   "metadata": {
    "hide-output": false
   },
   "outputs": [],
   "source": [
    "def f(x):\n",
    "    a = 3*x + jnp.sin(x) + jnp.cos(x**2) - jnp.cos(2*x) - x**2 * 0.4 * x**1.5\n",
    "    return jnp.sum(a)"
   ]
  },
  {
   "cell_type": "markdown",
   "id": "0dc27a39",
   "metadata": {},
   "source": [
    "Let’s build an array to call the function on."
   ]
  },
  {
   "cell_type": "code",
   "execution_count": 5,
   "id": "893b70f4",
   "metadata": {
    "hide-output": false
   },
   "outputs": [],
   "source": [
    "n = 50_000_000\n",
    "x = jnp.ones(n)"
   ]
  },
  {
   "cell_type": "markdown",
   "id": "b066adbd",
   "metadata": {},
   "source": [
    "How long does the function take to execute?"
   ]
  },
  {
   "cell_type": "code",
   "execution_count": 6,
   "id": "ab622fea",
   "metadata": {
    "hide-output": false
   },
   "outputs": [
    {
     "name": "stdout",
     "output_type": "stream",
     "text": [
      "CPU times: user 769 ms, sys: 489 ms, total: 1.26 s\n",
      "Wall time: 578 ms\n"
     ]
    },
    {
     "data": {
      "text/plain": [
       "Array(2.1989595e+08, dtype=float32)"
      ]
     },
     "execution_count": 6,
     "metadata": {},
     "output_type": "execute_result"
    }
   ],
   "source": [
    "%time f(x).block_until_ready()"
   ]
  },
  {
   "cell_type": "markdown",
   "id": "2fbd8694",
   "metadata": {},
   "source": [
    ">**Note**\n",
    ">\n",
    ">Here, in order to measure actual speed, we use the `block_until_ready()` method\n",
    "to hold the interpreter until the results of the computation are returned from\n",
    "the device. This is necessary because JAX uses asynchronous dispatch, which\n",
    "allows the Python interpreter to run ahead of GPU computations.\n",
    "\n",
    "The code doesn’t run as fast as we might hope, given that it’s running on a GPU.\n",
    "\n",
    "But if we run it a second time it becomes much faster:"
   ]
  },
  {
   "cell_type": "code",
   "execution_count": 7,
   "id": "358652c2",
   "metadata": {
    "hide-output": false
   },
   "outputs": [
    {
     "name": "stdout",
     "output_type": "stream",
     "text": [
      "CPU times: user 693 ms, sys: 398 ms, total: 1.09 s\n",
      "Wall time: 403 ms\n"
     ]
    },
    {
     "data": {
      "text/plain": [
       "Array(2.1989595e+08, dtype=float32)"
      ]
     },
     "execution_count": 7,
     "metadata": {},
     "output_type": "execute_result"
    }
   ],
   "source": [
    "%time f(x).block_until_ready()"
   ]
  },
  {
   "cell_type": "markdown",
   "id": "6f457937",
   "metadata": {},
   "source": [
    "This is because the built in functions like `jnp.cos` are JIT compiled and the\n",
    "first run includes compile time.\n",
    "\n",
    "Why would JAX want to JIT-compile built in functions like `jnp.cos` instead of\n",
    "just providing pre-compiled versions, like NumPy?\n",
    "\n",
    "The reason is that the JIT compiler can specialize on the *size* of the array\n",
    "being used, which is helpful for parallelization.\n",
    "\n",
    "For example, in running the code above, the JIT compiler produced a version of `jnp.cos` that is\n",
    "specialized to floating point arrays of size `n = 50_000_000`.\n",
    "\n",
    "We can check this by calling `f` with a new array of different size."
   ]
  },
  {
   "cell_type": "code",
   "execution_count": 8,
   "id": "b857da84",
   "metadata": {
    "hide-output": false
   },
   "outputs": [],
   "source": [
    "m = 50_000_001\n",
    "y = jnp.ones(m)"
   ]
  },
  {
   "cell_type": "code",
   "execution_count": 9,
   "id": "c03483d3",
   "metadata": {
    "hide-output": false
   },
   "outputs": [
    {
     "name": "stdout",
     "output_type": "stream",
     "text": [
      "CPU times: user 764 ms, sys: 422 ms, total: 1.19 s\n",
      "Wall time: 535 ms\n"
     ]
    },
    {
     "data": {
      "text/plain": [
       "Array(2.1989595e+08, dtype=float32)"
      ]
     },
     "execution_count": 9,
     "metadata": {},
     "output_type": "execute_result"
    }
   ],
   "source": [
    "%time f(y).block_until_ready()"
   ]
  },
  {
   "cell_type": "markdown",
   "id": "1f0b7e9a",
   "metadata": {},
   "source": [
    "Notice that the execution time increases, because now new versions of\n",
    "the built-ins like `jnp.cos` are being compiled, specialized to the new array\n",
    "size.\n",
    "\n",
    "If we run again, the code is dispatched to the correct compiled version and we\n",
    "get faster execution."
   ]
  },
  {
   "cell_type": "code",
   "execution_count": 10,
   "id": "e1e71805",
   "metadata": {
    "hide-output": false
   },
   "outputs": [
    {
     "name": "stdout",
     "output_type": "stream",
     "text": [
      "CPU times: user 694 ms, sys: 418 ms, total: 1.11 s\n",
      "Wall time: 420 ms\n"
     ]
    },
    {
     "data": {
      "text/plain": [
       "Array(2.1989595e+08, dtype=float32)"
      ]
     },
     "execution_count": 10,
     "metadata": {},
     "output_type": "execute_result"
    }
   ],
   "source": [
    "%time f(y).block_until_ready()"
   ]
  },
  {
   "cell_type": "markdown",
   "id": "624e507e",
   "metadata": {},
   "source": [
    "The compiled versions for the previous array size are still available in memory\n",
    "too, and the following call is dispatched to the correct compiled code."
   ]
  },
  {
   "cell_type": "code",
   "execution_count": 11,
   "id": "521c7be9",
   "metadata": {
    "hide-output": false
   },
   "outputs": [
    {
     "name": "stdout",
     "output_type": "stream",
     "text": [
      "CPU times: user 692 ms, sys: 407 ms, total: 1.1 s\n",
      "Wall time: 410 ms\n"
     ]
    },
    {
     "data": {
      "text/plain": [
       "Array(2.1989595e+08, dtype=float32)"
      ]
     },
     "execution_count": 11,
     "metadata": {},
     "output_type": "execute_result"
    }
   ],
   "source": [
    "%time f(x).block_until_ready()"
   ]
  },
  {
   "cell_type": "markdown",
   "id": "8e0c82da",
   "metadata": {},
   "source": [
    "####  Compiling the outer function\n",
    "\n",
    "We can do even better if we manually JIT-compile the outer function."
   ]
  },
  {
   "cell_type": "code",
   "execution_count": 13,
   "id": "f51397cc",
   "metadata": {
    "hide-output": false
   },
   "outputs": [],
   "source": [
    "f_jit = jax.jit(f)   # target for JIT compilation"
   ]
  },
  {
   "cell_type": "markdown",
   "id": "4f5b053d",
   "metadata": {},
   "source": [
    "Let’s run once to compile it:"
   ]
  },
  {
   "cell_type": "code",
   "execution_count": 14,
   "id": "b5d86e06",
   "metadata": {
    "hide-output": false
   },
   "outputs": [
    {
     "data": {
      "text/plain": [
       "Array(2.1989595e+08, dtype=float32)"
      ]
     },
     "execution_count": 14,
     "metadata": {},
     "output_type": "execute_result"
    }
   ],
   "source": [
    "f_jit(x)"
   ]
  },
  {
   "cell_type": "markdown",
   "id": "622cf65e",
   "metadata": {},
   "source": [
    "And now let’s time it."
   ]
  },
  {
   "cell_type": "code",
   "execution_count": 15,
   "id": "ded3c9a7",
   "metadata": {
    "hide-output": false
   },
   "outputs": [
    {
     "name": "stdout",
     "output_type": "stream",
     "text": [
      "CPU times: user 783 ms, sys: 36.1 ms, total: 819 ms\n",
      "Wall time: 135 ms\n"
     ]
    },
    {
     "data": {
      "text/plain": [
       "Array(2.1989595e+08, dtype=float32)"
      ]
     },
     "execution_count": 15,
     "metadata": {},
     "output_type": "execute_result"
    }
   ],
   "source": [
    "%time f_jit(x).block_until_ready()"
   ]
  },
  {
   "cell_type": "markdown",
   "id": "c80984ca",
   "metadata": {},
   "source": [
    "Note the speed gain.\n",
    "\n",
    "This is because the array operations are fused and no intermediate arrays are created.\n",
    "\n",
    "Incidentally, a more common syntax when targetting a function for the JIT\n",
    "compiler is"
   ]
  },
  {
   "cell_type": "code",
   "execution_count": 17,
   "id": "e020b6ec",
   "metadata": {
    "hide-output": false
   },
   "outputs": [],
   "source": [
    "@jax.jit\n",
    "def f(x):\n",
    "    a = 3*x + jnp.sin(x) + jnp.cos(x**2) - jnp.cos(2*x) - x**2 * 0.4 * x**1.5\n",
    "    return jnp.sum(a)"
   ]
  },
  {
   "cell_type": "markdown",
   "id": "a60cf4f1",
   "metadata": {},
   "source": [
    "### Limitations and Considerations\n",
    "\n",
    "While JIT compilation can improve performance, there are some limitations and considerations to keep in mind:\n",
    "\n",
    "- **Compilation Overhead**: There may be an initial overhead associated with compiling the function, especially for small functions or infrequently executed code.\n",
    "- **Memory Usage**: Compiled functions may consume more memory due to the generated machine code.\n",
    "- **Dynamic Features**: Some Python features, such as dynamic control flow or variable-length data structures, may limit the effectiveness of JIT compilation."
   ]
  },
  {
   "cell_type": "markdown",
   "id": "6a756006",
   "metadata": {},
   "source": [
    "## Functional Programming\n",
    "\n",
    "From JAX’s documentation:\n",
    "\n",
    "*When walking about the countryside of Italy, the people will not hesitate to tell you that JAX has “una anima di pura programmazione funzionale”.*\n",
    "\n",
    "In other words, JAX assumes a functional programming style.\n",
    "\n",
    "The major implication is that JAX functions should be pure.\n",
    "\n",
    "A pure function will always return the same result if invoked with the same inputs.\n",
    "\n",
    "In particular, a pure function has\n",
    "\n",
    "- no dependence on global variables and  \n",
    "- no side effects  \n",
    "\n",
    "\n",
    "JAX will not usually throw errors when compiling impure functions but execution becomes unpredictable.\n",
    "\n",
    "Here’s an illustration of this fact, using global variables:"
   ]
  },
  {
   "cell_type": "code",
   "execution_count": 18,
   "id": "ae9a0209",
   "metadata": {
    "hide-output": false
   },
   "outputs": [],
   "source": [
    "a = 1  # global\n",
    "\n",
    "@jax.jit\n",
    "def f(x):\n",
    "    return a + x"
   ]
  },
  {
   "cell_type": "code",
   "execution_count": 19,
   "id": "e4b80231",
   "metadata": {
    "hide-output": false
   },
   "outputs": [],
   "source": [
    "x = jnp.ones(2)"
   ]
  },
  {
   "cell_type": "code",
   "execution_count": 20,
   "id": "b4106fa6",
   "metadata": {
    "hide-output": false
   },
   "outputs": [
    {
     "data": {
      "text/plain": [
       "Array([2., 2.], dtype=float32)"
      ]
     },
     "execution_count": 20,
     "metadata": {},
     "output_type": "execute_result"
    }
   ],
   "source": [
    "f(x)"
   ]
  },
  {
   "cell_type": "markdown",
   "id": "f8965c18",
   "metadata": {},
   "source": [
    "In the code above, the global value `a=1` is fused into the jitted function.\n",
    "\n",
    "Even if we change `a`, the output of `f` will not be affected — as long as the same compiled version is called."
   ]
  },
  {
   "cell_type": "code",
   "execution_count": 21,
   "id": "9391aa61",
   "metadata": {
    "hide-output": false
   },
   "outputs": [],
   "source": [
    "a = 42"
   ]
  },
  {
   "cell_type": "code",
   "execution_count": 22,
   "id": "b41e5d4c",
   "metadata": {
    "hide-output": false
   },
   "outputs": [
    {
     "data": {
      "text/plain": [
       "Array([2., 2.], dtype=float32)"
      ]
     },
     "execution_count": 22,
     "metadata": {},
     "output_type": "execute_result"
    }
   ],
   "source": [
    "f(x)"
   ]
  },
  {
   "cell_type": "markdown",
   "id": "e2daac1a",
   "metadata": {},
   "source": [
    "Changing the dimension of the input triggers a fresh compilation of the function, at which time the change in the value of `a` takes effect:"
   ]
  },
  {
   "cell_type": "code",
   "execution_count": 23,
   "id": "cd644069",
   "metadata": {
    "hide-output": false
   },
   "outputs": [],
   "source": [
    "x = jnp.ones(3)"
   ]
  },
  {
   "cell_type": "code",
   "execution_count": 24,
   "id": "89ced823",
   "metadata": {
    "hide-output": false
   },
   "outputs": [
    {
     "data": {
      "text/plain": [
       "Array([43., 43., 43.], dtype=float32)"
      ]
     },
     "execution_count": 24,
     "metadata": {},
     "output_type": "execute_result"
    }
   ],
   "source": [
    "f(x)"
   ]
  },
  {
   "cell_type": "markdown",
   "id": "aa72d233",
   "metadata": {},
   "source": [
    "Moral of the story: write pure functions when using JAX!"
   ]
  },
  {
   "cell_type": "markdown",
   "id": "b6fae7b2",
   "metadata": {},
   "source": [
    "## Automatic Differentiation\n",
    "\n",
    "### What is Automatic Differentiation?\n",
    "\n",
    "Automatic Differentiation (AD) is a technique for efficiently computing derivatives of functions, including gradients and higher-order derivatives, with respect to their inputs. Unlike numerical or symbolic differentiation, AD leverages the chain rule to decompose complex functions into simpler elementary operations.\n",
    "\n",
    "### Theory Behind Automatic Differentiation\n",
    "\n",
    "AD computes derivatives by recursively applying the chain rule to decompose a function into elementary operations, known as \"primal\" and \"tangent\" evaluations. It can be implemented using two modes: forward-mode AD and reverse-mode AD, each suited for different use cases.\n",
    "\n",
    "### Gradients"
   ]
  },
  {
   "cell_type": "markdown",
   "id": "7e03d894",
   "metadata": {},
   "source": [
    "JAX provides the `grad` function to compute gradients of scalar functions. Let's see a simple example:"
   ]
  },
  {
   "cell_type": "code",
   "execution_count": 28,
   "id": "bf9429cf",
   "metadata": {},
   "outputs": [],
   "source": [
    "# Define a function\n",
    "def f(x):\n",
    "    return jnp.cos(jnp.sin(x**2))"
   ]
  },
  {
   "cell_type": "code",
   "execution_count": 29,
   "id": "70b6d576",
   "metadata": {},
   "outputs": [
    {
     "name": "stdout",
     "output_type": "stream",
     "text": [
      "Gradient of f: 8.364531\n"
     ]
    }
   ],
   "source": [
    "# Compute the gradient of the function\n",
    "f_prime = jax.grad(f)\n",
    "\n",
    "print(\"Gradient of f:\", f_prime(10.0))"
   ]
  },
  {
   "cell_type": "markdown",
   "id": "fa7a1fa3",
   "metadata": {},
   "source": [
    "Let’s plot the function and derivative, noting that $ f'(x) = x $."
   ]
  },
  {
   "cell_type": "code",
   "execution_count": 35,
   "id": "4d3450c0",
   "metadata": {},
   "outputs": [
    {
     "data": {
      "image/png": "[encoded data removed]",
      "text/plain": [
       "<Figure size 640x480 with 1 Axes>"
      ]
     },
     "metadata": {},
     "output_type": "display_data"
    }
   ],
   "source": [
    "import matplotlib.pyplot as plt\n",
    "\n",
    "fig, ax = plt.subplots()\n",
    "x_grid = jnp.linspace(1, 10, 200)\n",
    "ax.plot(x_grid, f(x_grid), label=\"$f$\")\n",
    "ax.plot(x_grid, [f_prime(x) for x in x_grid], label=\"$f'$\")\n",
    "ax.legend(loc='upper left')\n",
    "plt.show()"
   ]
  },
  {
   "cell_type": "markdown",
   "id": "0302baaa",
   "metadata": {},
   "source": [
    "JAX's `grad` function can also compute gradients of functions with multiple arguments. Let's see an example of computing the gradient of a function with respect to multiple variables:"
   ]
  },
  {
   "cell_type": "code",
   "execution_count": 38,
   "id": "a3e5dbfa",
   "metadata": {},
   "outputs": [
    {
     "name": "stdout",
     "output_type": "stream",
     "text": [
      "Gradient of g at (0, 0): (Array(1., dtype=float32, weak_type=True), Array(-0., dtype=float32, weak_type=True))\n"
     ]
    }
   ],
   "source": [
    "# Define a function of two variables\n",
    "def g(x, y):\n",
    "    return jnp.sin(x) * jnp.cos(y)\n",
    "\n",
    "# Compute the gradient of g with respect to both x and y\n",
    "g_prime = jax.grad(g, argnums=(0, 1))\n",
    "\n",
    "# Evaluate the gradient at (x, y) = (0, 0)\n",
    "result = g_prime(0.0, 0.0)\n",
    "print(\"Gradient of g at (0, 0):\", result)"
   ]
  },
  {
   "cell_type": "markdown",
   "id": "4a65fa7e",
   "metadata": {},
   "source": [
    "In this example, `argnums=(0, 1)` specifies that we want to compute the gradient with respect to both the first and second arguments of the function `g`."
   ]
  },
  {
   "cell_type": "markdown",
   "id": "f1b0e537",
   "metadata": {},
   "source": [
    "#### Using `jax.value_and_grad` for Function and Gradient Computation\n",
    "\n",
    "JAX provides the `value_and_grad` function to compute both the function value and its gradient simultaneously, improving efficiency. Here's an example:"
   ]
  },
  {
   "cell_type": "code",
   "execution_count": 43,
   "id": "b8ab7bee",
   "metadata": {},
   "outputs": [
    {
     "name": "stdout",
     "output_type": "stream",
     "text": [
      "Function value: 0.9162743\n",
      "Gradient of f at x=3.0: 2.1897266\n"
     ]
    }
   ],
   "source": [
    "# Compute the function value and gradient simultaneously\n",
    "value, grad_value = jax.value_and_grad(f)(jnp.array(3.0))\n",
    "\n",
    "print(\"Function value:\", value)\n",
    "print(\"Gradient of f at x=3.0:\", grad_value)"
   ]
  },
  {
   "cell_type": "markdown",
   "id": "255ccbba",
   "metadata": {},
   "source": [
    "### Computing Hessian\n",
    "\n",
    "The `hessian` function computes the Hessian matrix of the function `f`, which represents the matrix of second-order partial derivatives."
   ]
  },
  {
   "cell_type": "code",
   "execution_count": 45,
   "id": "2bc28dc1",
   "metadata": {},
   "outputs": [
    {
     "name": "stdout",
     "output_type": "stream",
     "text": [
      "Hessian of f at x=2: 2.4463372\n"
     ]
    }
   ],
   "source": [
    "# Compute the Hessian matrix of f\n",
    "hessian_f = jax.hessian(f)\n",
    "\n",
    "# Evaluate the Hessian at x = 2\n",
    "result = hessian_f(2.0)\n",
    "print(\"Hessian of f at x=2:\", result)"
   ]
  },
  {
   "cell_type": "markdown",
   "id": "4a18cc7a",
   "metadata": {},
   "source": [
    "The `hessian` function computes the Hessian matrix of the function `f`, which represents the matrix of second-order partial derivatives."
   ]
  },
  {
   "cell_type": "markdown",
   "id": "7682f99a",
   "metadata": {},
   "source": [
    "### Computing Jacobians\n",
    "\n",
    "JAX provides a `jacobian` function to compute the Jacobian matrix of a vector-valued function.\n",
    "\n",
    "Let's see an example"
   ]
  },
  {
   "cell_type": "code",
   "execution_count": 47,
   "id": "97f24f72",
   "metadata": {},
   "outputs": [
    {
     "name": "stdout",
     "output_type": "stream",
     "text": [
      "Jacobian of h at [1, 0]: [[2. 0.]\n",
      " [0. 1.]]\n"
     ]
    }
   ],
   "source": [
    "# Define a vector-valued function\n",
    "def h(x):\n",
    "    return jnp.array([x[0] ** 2, jnp.sin(x[1])])\n",
    "\n",
    "# Compute the Jacobian of h using forward-mode differentiation\n",
    "jacobian_h = jax.jacfwd(h)\n",
    "\n",
    "# Evaluate the Jacobian at x = [1, 0]\n",
    "result = jacobian_h(jnp.array([1.0, 0.0]))\n",
    "print(\"Jacobian of h at [1, 0]:\", result)"
   ]
  }
 ],
 "metadata": {
  "kernelspec": {
   "display_name": "Python 3 (ipykernel)",
   "language": "python",
   "name": "python3"
  },
  "language_info": {
   "codemirror_mode": {
    "name": "ipython",
    "version": 3
   },
   "file_extension": ".py",
   "mimetype": "text/x-python",
   "name": "python",
   "nbconvert_exporter": "python",
   "pygments_lexer": "ipython3",
   "version": "3.10.11"
  }
 },
 "nbformat": 4,
 "nbformat_minor": 5
}
