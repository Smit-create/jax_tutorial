{
 "cells": [
  {
   "cell_type": "markdown",
   "id": "b0d877e2",
   "metadata": {},
   "source": [
    "# Lecture 5: Linear and Logistic regression with JAX\n",
    "\n",
    "In this lecture we will try to build a simple model of linear and logistic regression using JAX and\n",
    "it's auto-grad capabilities.\n",
    "\n",
    "## Linear regression\n",
    "\n",
    "Linear regression is a statistical method used to model the relationship between a dependent variable and one or more independent variables. It assumes a linear relationship, aiming to find the best-fit line that minimizes the difference between predicted and actual values.\n",
    "\n",
    "With a single independent variable, it's expressed as $ y = Wx + b $, where $y$ is the dependent variable, $x$ is the independent variable, $W$ is the slope, and $b$ is the intercept. Linear regression is widely applied in various fields for prediction, analysis, and understanding relationships between variables.\n",
    "\n",
    "Let's start with the imports"
   ]
  },
  {
   "cell_type": "code",
   "execution_count": 1,
   "id": "e3201c29",
   "metadata": {},
   "outputs": [],
   "source": [
    "import jax\n",
    "import jax.numpy as jnp\n",
    "import matplotlib.pyplot as plt"
   ]
  },
  {
   "cell_type": "markdown",
   "id": "c72632a8",
   "metadata": {},
   "source": [
    "### Data preparation\n",
    "\n",
    "We will create a some random data set that will use for training our model.\n",
    "\n",
    "Here, we have assume that $W=3$ and $b=2$.\n",
    "\n",
    "We will take 10 data points as $X$ and compute `y_actual` using $Wx+b$ and then add some random noise using normal distribution to compute our $y$."
   ]
  },
  {
   "cell_type": "code",
   "execution_count": 2,
   "id": "659f6d84",
   "metadata": {},
   "outputs": [],
   "source": [
    "actual_W = 3.0\n",
    "actual_b = 2.0\n",
    "num_points = 10\n",
    "\n",
    "key = jax.random.PRNGKey(0)\n",
    "X = jnp.arange(num_points).reshape((num_points, 1))\n",
    "y_actual = actual_W * X + actual_b\n",
    "noise = jax.random.normal(key, (num_points, 1))\n",
    "y = y_actual + noise"
   ]
  },
  {
   "cell_type": "code",
   "execution_count": 3,
   "id": "80be1fe3",
   "metadata": {},
   "outputs": [
    {
     "data": {
      "image/png": "[encoded data removed]",
      "text/plain": [
       "<Figure size 640x480 with 1 Axes>"
      ]
     },
     "metadata": {},
     "output_type": "display_data"
    }
   ],
   "source": [
    "plt.plot(X, y_actual, label='y_actual')\n",
    "plt.scatter(X, y, label='y')\n",
    "plt.xlabel('X')\n",
    "plt.ylabel('y')\n",
    "plt.legend()\n",
    "plt.show()"
   ]
  },
  {
   "cell_type": "markdown",
   "id": "c4c04900",
   "metadata": {},
   "source": [
    "Now, let's define the following two functions\n",
    "\n",
    "1. **Forward Pass Function (`forward`):**\n",
    "   - The `forward` function takes input `x` and model parameters `params` (which include weights `W` and biases `b`) as input.\n",
    "   - It computes the forward pass of the neural network by performing a dot product between the input `x` and the weights `W`, and then adding the biases `b`.\n",
    "   - The result is the output of the neural network.\n",
    "\n",
    "\n",
    "2. **Loss Function (`loss_fn`):**\n",
    "   - The `loss_fn` function takes input `x`, ground truth labels `y`, and model parameters `params` as input.\n",
    "   - It first computes predictions using the `forward` function.\n",
    "   - Then, it computes the mean squared error loss between the predictions and the ground truth labels.\n",
    "   - This loss function quantifies the discrepancy between the predicted and actual values, providing a measure of how well the model is performing on the given data."
   ]
  },
  {
   "cell_type": "code",
   "execution_count": 4,
   "id": "7c4627ee",
   "metadata": {},
   "outputs": [],
   "source": [
    "# Forward pass\n",
    "@jax.jit\n",
    "def forward(params, x):\n",
    "    return jnp.dot(x, params['W']) + params['b']\n",
    "\n",
    "# Define loss function of linear regression\n",
    "@jax.jit\n",
    "def loss_fn(params, x, y):\n",
    "    preds = forward(params, x)\n",
    "    return jnp.mean((preds - y) ** 2)"
   ]
  },
  {
   "cell_type": "markdown",
   "id": "ea117aac",
   "metadata": {},
   "source": [
    "We define a gradient function `grad_fn` using JAX's `grad` function, which computes the gradients of a given function (in this case, the loss function `loss_fn`) with respect to its input arguments."
   ]
  },
  {
   "cell_type": "code",
   "execution_count": 5,
   "id": "b6c72496",
   "metadata": {},
   "outputs": [],
   "source": [
    "# Define gradient function\n",
    "grad_fn = jax.jit(jax.grad(loss_fn))"
   ]
  },
  {
   "cell_type": "markdown",
   "id": "88b7b057",
   "metadata": {},
   "source": [
    "Next, we define a training loop where we iterate over a fixed number of epochs (`num_epochs`). In each epoch, we compute the gradients of the loss function with respect to the model parameters using `grad_fn`. These gradients indicate the direction and magnitude of change needed to minimize the loss.\n",
    "\n",
    "After computing the gradients, we update the model parameters (`params['W']` and `params['b']`) using gradient descent. This involves subtracting a fraction of the gradients from the current parameter values, scaled by a learning rate (`lr`). The learning rate controls the size of the step taken in the parameter space during optimization."
   ]
  },
  {
   "cell_type": "code",
   "execution_count": 6,
   "id": "0c8e1b93",
   "metadata": {},
   "outputs": [],
   "source": [
    "# Define model parameters (Initialize them)\n",
    "params = {\n",
    "    'W': jax.random.normal(key, (1, 1)),\n",
    "    'b': jnp.zeros((1,))\n",
    "}"
   ]
  },
  {
   "cell_type": "code",
   "execution_count": 7,
   "id": "215a7b50",
   "metadata": {},
   "outputs": [],
   "source": [
    "lr = 0.01\n",
    "num_epochs = 1000\n",
    "for epoch in range(num_epochs):\n",
    "    # Compute gradients\n",
    "    grads = grad_fn(params, X, y_actual)\n",
    "    # Update parameters\n",
    "    params['W'] -= lr * grads['W']\n",
    "    params['b'] -= lr * grads['b']"
   ]
  },
  {
   "cell_type": "code",
   "execution_count": 8,
   "id": "37f0070f",
   "metadata": {},
   "outputs": [
    {
     "name": "stdout",
     "output_type": "stream",
     "text": [
      "Trained Parameters:\n",
      "W: [[3.0008037]]\n",
      "b: [1.9949604]\n"
     ]
    }
   ],
   "source": [
    "print(\"Trained Parameters:\")\n",
    "print(\"W:\", params['W'])\n",
    "print(\"b:\", params['b'])"
   ]
  },
  {
   "cell_type": "markdown",
   "id": "75d9d69b",
   "metadata": {},
   "source": [
    "This is almost the same that we had assumed earlier while creating our dataset."
   ]
  },
  {
   "cell_type": "markdown",
   "id": "2715188d",
   "metadata": {},
   "source": [
    "## Logistic regression\n",
    "\n",
    "Logistic regression is a statistical method used for binary classification tasks. Unlike linear regression, it models the probability that a given input belongs to a particular class using the logistic function, which maps input values to the range [0, 1].\n",
    "\n",
    "It estimates the coefficients of the decision boundary that separates the classes, making it a linear classifier.\n",
    "\n",
    "To begin with logistic regression, let's create a small dataset with 5 data points."
   ]
  },
  {
   "cell_type": "code",
   "execution_count": 9,
   "id": "3feafa18",
   "metadata": {},
   "outputs": [],
   "source": [
    "key = jax.random.PRNGKey(10)\n",
    "\n",
    "X = jnp.array([[1, 3], [3, 5], [2, 4], [6, 2], [5, 1]])\n",
    "y = jnp.array([1, 1, 1, 0, 0]).reshape((5, 1))  # Binary labels (0 or 1)"
   ]
  },
  {
   "cell_type": "code",
   "execution_count": 10,
   "id": "c653808a",
   "metadata": {},
   "outputs": [
    {
     "data": {
      "image/png": "[encoded data removed]",
      "text/plain": [
       "<Figure size 640x480 with 1 Axes>"
      ]
     },
     "metadata": {},
     "output_type": "display_data"
    }
   ],
   "source": [
    "# Plot dataset\n",
    "plt.scatter(X[:, 0], X[:, 1], c=y, cmap='bwr', edgecolors='k')\n",
    "plt.grid(True)\n",
    "plt.show()"
   ]
  },
  {
   "cell_type": "markdown",
   "id": "cd6bf3d6",
   "metadata": {},
   "source": [
    "Now, let's define the following functions\n",
    "\n",
    "1. **Sigmoid Activation Function:**\n",
    "   - The `sigmoid` function is a mathematical function that maps any real-valued number to the range [0, 1].\n",
    "   - It is used as the activation function in logistic regression to squash the output of the linear combination of inputs to a probability value.\n",
    "\n",
    "2. **Forward Pass Function:**\n",
    "   - The `forward` function performs the forward pass of the logistic regression model.\n",
    "   - It takes the input features `x` and the model parameters `params` (including weights `W` and bias `b`) as input.\n",
    "   - It computes the linear combination of input features and model weights, adds the bias term, and applies the sigmoid activation function to obtain the predicted probabilities.\n",
    "\n",
    "3. **Binary Cross-Entropy Loss Function:**\n",
    "   - The `loss_fn` function calculates the binary cross-entropy loss between the predicted probabilities and the ground truth labels `y`.\n",
    "   - It first computes the predicted probabilities using the `forward` function.\n",
    "   - It then calculates the cross-entropy loss, which measures the discrepancy between the predicted probabilities and the actual binary labels."
   ]
  },
  {
   "cell_type": "code",
   "execution_count": 11,
   "id": "5b1b190c",
   "metadata": {},
   "outputs": [],
   "source": [
    "# Define the sigmoid activation function\n",
    "@jax.jit\n",
    "def sigmoid(x):\n",
    "    return 1 / (1 + jnp.exp(-x))\n",
    "\n",
    "\n",
    "# Forward pass function\n",
    "@jax.jit\n",
    "def forward(params, x):\n",
    "    return sigmoid(jnp.dot(x, params['W']) + params['b'])\n",
    "\n",
    "\n",
    "# Define binary cross-entropy loss function\n",
    "@jax.jit\n",
    "def loss_fn(params, x, y):\n",
    "    preds = forward(params, x)\n",
    "    return -jnp.mean(y * jnp.log(preds) + (1 - y) * jnp.log(1 - preds))"
   ]
  },
  {
   "cell_type": "markdown",
   "id": "571189d0",
   "metadata": {},
   "source": [
    "Next, similar to liner regression, we define a training loop where we iterate over a fixed number of epochs (`num_epochs`). In each epoch, we compute the gradients of the loss function with respect to the model parameters using `grad_fn`.\n",
    "\n",
    "After computing the gradients, we update the model parameters (`params['W']` and `params['b']`) using gradient descent. This involves subtracting a fraction of the gradients from the current parameter values, scaled by a learning rate (`lr`). The learning rate controls the size of the step taken in the parameter space during optimization."
   ]
  },
  {
   "cell_type": "code",
   "execution_count": 12,
   "id": "0590ac44",
   "metadata": {},
   "outputs": [],
   "source": [
    "# Define model parameters\n",
    "params = {\n",
    "    'W': jax.random.normal(key, (2, 1)),\n",
    "    'b': jnp.zeros((1,))\n",
    "}\n",
    "\n",
    "# Define gradient function\n",
    "grad_fn = jax.jit(jax.grad(loss_fn))"
   ]
  },
  {
   "cell_type": "code",
   "execution_count": 13,
   "id": "77fe67ce",
   "metadata": {},
   "outputs": [
    {
     "name": "stdout",
     "output_type": "stream",
     "text": [
      "Trained Parameters:\n",
      "W: [[-1.0959495]\n",
      " [ 1.3521521]]\n",
      "b: [0.428438]\n"
     ]
    }
   ],
   "source": [
    "lr = 0.01\n",
    "num_epochs = 1000\n",
    "for epoch in range(num_epochs):\n",
    "    # Compute gradients\n",
    "    grads = grad_fn(params, X, y)\n",
    "    # Update parameters using gradient descent\n",
    "    params['W'] -= lr * grads['W']\n",
    "    params['b'] -= lr * grads['b']\n",
    "\n",
    "# Print trained parameters\n",
    "print(\"Trained Parameters:\")\n",
    "print(\"W:\", params['W'])\n",
    "print(\"b:\", params['b'])"
   ]
  },
  {
   "cell_type": "markdown",
   "id": "0cbf74f8",
   "metadata": {},
   "source": [
    "Let's see how the predicted boundary looks like"
   ]
  },
  {
   "cell_type": "code",
   "execution_count": 14,
   "id": "007f6f0f",
   "metadata": {},
   "outputs": [
    {
     "data": {
      "image/png": "[encoded data removed]",
      "text/plain": [
       "<Figure size 640x480 with 1 Axes>"
      ]
     },
     "metadata": {},
     "output_type": "display_data"
    }
   ],
   "source": [
    "plt.scatter(X[:, 0], X[:, 1], c=y, cmap='bwr', edgecolors='k')\n",
    "W, b = params['W'], params['b']\n",
    "# Generate x values for decision boundary line\n",
    "x_values = jnp.linspace(X[:, 0].min() - 1, X[:, 0].max() + 1, 100)\n",
    "# Compute y values for decision boundary line using the formula: W0*x + W1*y + b = 0\n",
    "y_values = (-b - W[0] * x_values) / W[1]\n",
    "\n",
    "# Plot decision boundary line\n",
    "plt.plot(x_values, y_values, color='k', linestyle='--', label='Decision Boundary')\n",
    "plt.title('Logistic Regression Decision Boundary')\n",
    "plt.legend()\n",
    "plt.grid(True)\n",
    "plt.show()"
   ]
  },
  {
   "cell_type": "markdown",
   "id": "00ce8813",
   "metadata": {},
   "source": [
    "## References\n",
    "\n",
    "- [JAX Documentation](https://jax.readthedocs.io/en/latest/index.html)"
   ]
  }
 ],
 "metadata": {
  "kernelspec": {
   "display_name": "Python 3 (ipykernel)",
   "language": "python",
   "name": "python3"
  },
  "language_info": {
   "codemirror_mode": {
    "name": "ipython",
    "version": 3
   },
   "file_extension": ".py",
   "mimetype": "text/x-python",
   "name": "python",
   "nbconvert_exporter": "python",
   "pygments_lexer": "ipython3",
   "version": "3.10.11"
  }
 },
 "nbformat": 4,
 "nbformat_minor": 5
}
