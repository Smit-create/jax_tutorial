{
 "cells": [
  {
   "cell_type": "markdown",
   "id": "dd57b338",
   "metadata": {},
   "source": [
    "# Lecture 3: Loops and Conditions in JAX"
   ]
  },
  {
   "cell_type": "markdown",
   "id": "73d7f215",
   "metadata": {},
   "source": [
    "## Introduction to Loops in JAX\n",
    "\n",
    "Loops are pivotal in repetitive tasks, such as iterating over sequences or performing computations iteratively. JAX provides various loop constructs, including `jax.lax.fori_loop`, `jax.lax.while_loop`, and `jax.lax.scan`, enabling fine-grained control over looping mechanisms. In this lecture, we'll delve into these constructs and demonstrate their usage through practical examples."
   ]
  },
  {
   "cell_type": "code",
   "execution_count": 1,
   "id": "f9edee93",
   "metadata": {},
   "outputs": [],
   "source": [
    "import jax.numpy as jnp\n",
    "import jax"
   ]
  },
  {
   "cell_type": "markdown",
   "id": "8eb2f77d",
   "metadata": {},
   "source": [
    "### Using `jax.lax.fori_loop`\n",
    "\n",
    "`jax.lax.fori_loop` is a loop construct in JAX that allows for iterating a fixed number of times. It's akin to Python's for loop but optimized for computation within JAX's framework. This function is useful for tasks that require repeated computations or transformations over a predetermined range of iterations.\n",
    "\n",
    "The `jax.lax.fori_loop` function facilitates a loop with a predetermined number of iterations, similar to Python's `for` loop.\n",
    "\n",
    "Let's demonstrate its usage with a simple example"
   ]
  },
  {
   "cell_type": "code",
   "execution_count": 2,
   "id": "21206ebd",
   "metadata": {},
   "outputs": [],
   "source": [
    "# Define a Python loop to sum the squares of numbers from `start` to `end`\n",
    "def sum_squares(start, end):\n",
    "    total_sum = 0\n",
    "    for i in range(10):\n",
    "        total_sum += i ** 2\n",
    "    return total_sum"
   ]
  },
  {
   "cell_type": "code",
   "execution_count": 3,
   "id": "d64d1157",
   "metadata": {},
   "outputs": [
    {
     "data": {
      "text/plain": [
       "285"
      ]
     },
     "execution_count": 3,
     "metadata": {},
     "output_type": "execute_result"
    }
   ],
   "source": [
    "sum_squares(1, 10)"
   ]
  },
  {
   "cell_type": "markdown",
   "id": "1ec0c0c3",
   "metadata": {},
   "source": [
    "Now, let's try to re-write the above function using [jax.lax.fori_loop](https://jax.readthedocs.io/en/latest/_autosummary/jax.lax.fori_loop.html).\n",
    "\n",
    "In `jax.lax.fori_loop`, the arguments are passed in the following manner:\n",
    "\n",
    "1. **Start Value**: This argument specifies the initial value of the loop variable.\n",
    "2. **End Value**: This argument specifies the upper bound for the loop variable. The loop will iterate until the loop variable reaches this value.\n",
    "3. **Body Function**: This is a function that defines the body of the loop. It takes two arguments: the loop variable and the carry value. The loop variable represents the current iteration index, while the carry value represents any intermediate state that needs to be maintained across loop iterations.\n",
    "4. **Initial Carry Value**: This argument specifies the initial value of the carry variable, which is passed to the body function in each iteration."
   ]
  },
  {
   "cell_type": "code",
   "execution_count": 4,
   "id": "7c1ffd49",
   "metadata": {},
   "outputs": [],
   "source": [
    "# Rewrite the loop using jax.lax.fori_loop\n",
    "def sum_squares_jax(start, end):\n",
    "\n",
    "    def body_fun(i, total):\n",
    "        return total + i ** 2\n",
    "\n",
    "    return jax.lax.fori_loop(start,    # lower\n",
    "                             end,      # upper\n",
    "                             body_fun, # body_fun\n",
    "                             0)        # init_val (of total)      "
   ]
  },
  {
   "cell_type": "code",
   "execution_count": 5,
   "id": "0fa498db",
   "metadata": {},
   "outputs": [
    {
     "data": {
      "text/plain": [
       "Array(285, dtype=int32, weak_type=True)"
      ]
     },
     "execution_count": 5,
     "metadata": {},
     "output_type": "execute_result"
    }
   ],
   "source": [
    "sum_squares_jax(0, 10)"
   ]
  },
  {
   "cell_type": "markdown",
   "id": "0bc260d0",
   "metadata": {},
   "source": [
    "In this example, we define a function `sum_squares_jax` that computes the sum of squares from a given start value to an end value using `jax.lax.fori_loop`. The `body_fun` function squares each number from the loop index `i` and accumulates the result in the `total` variable. Finally, the loop is executed with the specified start and end values, and the result is returned."
   ]
  },
  {
   "cell_type": "markdown",
   "id": "7d4fae62",
   "metadata": {},
   "source": [
    "### Using `jax.lax.while_loop`\n",
    "\n",
    "`jax.lax.while_loop` is another looping construct provided by JAX, enabling iterative execution until a termination condition is met. It resembles Python's while loop but is designed to seamlessly integrate with JAX's computational graph and automatic differentiation capabilities. while_loop is suitable for situations where the number of iterations is not known beforehand and depends on runtime conditions.\n",
    "\n",
    "Let's illustrate its usage with an example"
   ]
  },
  {
   "cell_type": "code",
   "execution_count": 6,
   "id": "1f4b0730",
   "metadata": {},
   "outputs": [
    {
     "data": {
      "text/plain": [
       "720"
      ]
     },
     "execution_count": 6,
     "metadata": {},
     "output_type": "execute_result"
    }
   ],
   "source": [
    "# Define a Python while loop to compute the factorial of `n`\n",
    "def factorial(n):\n",
    "    result = 1\n",
    "    i = 1\n",
    "    while i <= n:\n",
    "        result *= i\n",
    "        i += 1\n",
    "    return result\n",
    "\n",
    "factorial(6)"
   ]
  },
  {
   "cell_type": "markdown",
   "id": "09c1d8e6",
   "metadata": {},
   "source": [
    "Now, let's try to re-write the above function using [jax.lax.while_loop](https://jax.readthedocs.io/en/latest/_autosummary/jax.lax.while_loop.html)\n",
    "\n",
    "\n",
    "In `jax.lax.while_loop`, the arguments are passed as follows:\n",
    "\n",
    "1. **Loop Condition Function**: This function defines the termination condition of the loop. It takes the current loop state as its argument and returns a boolean value indicating whether the loop should continue (`True`) or terminate (`False`).\n",
    "2. **Loop Body Function**: This function defines the body of the loop. It takes the current loop state as its argument and returns the updated loop state for the next iteration.\n",
    "3. **Initial Loop State**: This argument specifies the initial state of the loop, which is passed to both the loop condition and loop body functions.\n"
   ]
  },
  {
   "cell_type": "code",
   "execution_count": 7,
   "id": "5e70dd2f",
   "metadata": {},
   "outputs": [],
   "source": [
    "# Rewrite the loop using jax.lax.while_loop\n",
    "def factorial_jax(n):\n",
    "\n",
    "    def condition(state):\n",
    "        i, result = state\n",
    "        return i <= n\n",
    "\n",
    "    def body(state):\n",
    "        i, result = state\n",
    "        return (i + 1, result * i)\n",
    "\n",
    "    _, result = jax.lax.while_loop(condition, # cond_fun\n",
    "                                   body,      # body_fun\n",
    "                                   (1, 1))    # init_value (i=1, result=1)\n",
    "    return result"
   ]
  },
  {
   "cell_type": "code",
   "execution_count": 8,
   "id": "0b115b27",
   "metadata": {},
   "outputs": [
    {
     "data": {
      "text/plain": [
       "Array(720, dtype=int32, weak_type=True)"
      ]
     },
     "execution_count": 8,
     "metadata": {},
     "output_type": "execute_result"
    }
   ],
   "source": [
    "factorial_jax(6)"
   ]
  },
  {
   "cell_type": "markdown",
   "id": "c838a3c5",
   "metadata": {},
   "source": [
    "In this example, we define a function `factorial_jax` that computes the factorial of a number using `jax.lax.while_loop`. The `condition` function checks if the loop variable `i` is less than or equal to `n`, while the `body` function updates the loop state by incrementing `i` and accumulating the factorial in the `result` variable. The loop continues until the condition is `False`, and the final result is returned.\n",
    "\n",
    "Since in the final result we get the value of `(i, result)`, we ignore the first value\n",
    "and return the result."
   ]
  },
  {
   "cell_type": "markdown",
   "id": "8cfc673b",
   "metadata": {},
   "source": [
    "### Using `jax.lax.scan`\n",
    "\n",
    "`jax.lax.scan` is a function in JAX for performing cumulative computations over a sequence of inputs. It's similar to Python's accumulate function but optimized for efficient execution within JAX's framework. `scan` is commonly used for tasks such as computing cumulative sums, products, or applying a function iteratively over a sequence while accumulating results. It's a powerful tool for implementing recurrent neural networks, sequential models, or any computation involving cumulative operations.\n",
    "\n",
    "`jax.lax.scan` is generalized version of handling loops in JAX and can handle complex looping constructs.\n",
    "\n",
    "Let's see the following example"
   ]
  },
  {
   "cell_type": "code",
   "execution_count": 9,
   "id": "7c18e283",
   "metadata": {},
   "outputs": [],
   "source": [
    "# Define a Python function to compute cumulative sums of a list\n",
    "def cumulative_sums(nums):\n",
    "    cumulative_sums = []\n",
    "    total = 0\n",
    "    for num in nums:\n",
    "        total += num\n",
    "        cumulative_sums.append(total)\n",
    "    return cumulative_sums"
   ]
  },
  {
   "cell_type": "code",
   "execution_count": 10,
   "id": "997feef8",
   "metadata": {},
   "outputs": [
    {
     "data": {
      "text/plain": [
       "[1, 3, 6, 10, 15]"
      ]
     },
     "execution_count": 10,
     "metadata": {},
     "output_type": "execute_result"
    }
   ],
   "source": [
    "nums = [1, 2, 3, 4, 5]\n",
    "cumulative_sums(nums)"
   ]
  },
  {
   "cell_type": "markdown",
   "id": "26f82e44",
   "metadata": {},
   "source": [
    "Now, let's try to re-write the above function using [jax.lax.scan](https://jax.readthedocs.io/en/latest/_autosummary/jax.lax.scan.html)\n",
    "\n",
    "\n",
    "In `jax.lax.scan`, the arguments are passed as follows:\n",
    "\n",
    "1. **Body Function**: This function defines the computation to be performed at each step of the loop. It takes two arguments: the loop variable (or current input element) and the carry variable (or accumulated state), and returns a tuple containing the updated loop variable and the updated carry variable.\n",
    "2. **Initial Carry Value**: This argument specifies the initial value of the carry variable, which is passed as the initial state to the loop.\n",
    "3. **Sequence**: This argument specifies the input sequence over which the loop iterates.\n"
   ]
  },
  {
   "cell_type": "code",
   "execution_count": 11,
   "id": "ebdd7ce5",
   "metadata": {},
   "outputs": [],
   "source": [
    "# Rewrite the computation using jax.lax.scan\n",
    "def cumulative_sums_jax(nums):\n",
    "    \n",
    "    def body(total, num):\n",
    "        return total + num, total + num\n",
    "    \n",
    "    total, cumulative_sums_array =  jax.lax.scan(body,   # f\n",
    "                                                 0,      # init\n",
    "                                                 nums)   # xs\n",
    "    return cumulative_sums_array"
   ]
  },
  {
   "cell_type": "code",
   "execution_count": 12,
   "id": "b351247e",
   "metadata": {},
   "outputs": [
    {
     "data": {
      "text/plain": [
       "Array([ 1,  3,  6, 10, 15], dtype=int32)"
      ]
     },
     "execution_count": 12,
     "metadata": {},
     "output_type": "execute_result"
    }
   ],
   "source": [
    "cumulative_sums_jax(jnp.array(nums))"
   ]
  },
  {
   "cell_type": "markdown",
   "id": "55ba9c78",
   "metadata": {},
   "source": [
    "In this example, we define a function `cumulative_sums_jax` that computes cumulative sums using `jax.lax.scan`. The `body` function computes the sum of the current element and the carry variable, updating both the loop variable and the carry variable. The loop iterates over the input sequence, accumulating the sums at each step, and the final result is returned."
   ]
  },
  {
   "cell_type": "markdown",
   "id": "596c66ed",
   "metadata": {},
   "source": [
    "## Conditional Execution with JAX\n",
    "\n",
    "### Introduction to `jax.lax.cond`\n",
    "\n",
    "`jax.lax.cond` is a conditional execution function provided by JAX, allowing users to perform different computations based on specified conditions. This enables dynamic control flow within JAX computations, facilitating conditional branching similar to Python's `if` statement. We'll explore the usage of `jax.lax.cond` through practical examples."
   ]
  },
  {
   "cell_type": "code",
   "execution_count": 13,
   "id": "a9dac5b6",
   "metadata": {},
   "outputs": [
    {
     "name": "stdout",
     "output_type": "stream",
     "text": [
      "Sign of 5 (Python): 1\n",
      "Sign of -10 (Python): -1\n"
     ]
    }
   ],
   "source": [
    "# Define a Python function to check if a number is positive or negative\n",
    "def check_sign(x):\n",
    "    if x > 0:\n",
    "        return 1\n",
    "    else:\n",
    "        return -1\n",
    "\n",
    "# Execute the Python function with a sample input\n",
    "print(\"Sign of 5 (Python):\", check_sign(5))\n",
    "print(\"Sign of -10 (Python):\", check_sign(-10))"
   ]
  },
  {
   "cell_type": "markdown",
   "id": "f82abb69",
   "metadata": {},
   "source": [
    "Let's re-write the same using [jax.lax.cond](https://jax.readthedocs.io/en/latest/_autosummary/jax.lax.cond.html).\n",
    "\n",
    "In `jax.lax.cond`, the arguments are passed as follows:\n",
    "\n",
    "1. **Predicate**: This is a boolean scalar indicating the condition to be evaluated. If the predicate is `True`, the `true_fun` will be executed; otherwise, the `false_fun` will be executed.\n",
    "2. **True Function**: This function defines the computation to be performed if the predicate is `True`. It takes no arguments and returns the result of the computation when the condition is satisfied.\n",
    "3. **False Function**: This function defines the computation to be performed if the predicate is `False`. It takes no arguments and returns the result of the computation when the condition is not satisfied."
   ]
  },
  {
   "cell_type": "code",
   "execution_count": 14,
   "id": "a6de73d5",
   "metadata": {},
   "outputs": [
    {
     "name": "stdout",
     "output_type": "stream",
     "text": [
      "Sign of 5 (JAX cond): 1\n",
      "Sign of -10 (JAX cond): -1\n"
     ]
    }
   ],
   "source": [
    "# Rewrite the function using jax.cond\n",
    "def check_sign_jax(x):\n",
    "    def positive_branch(x):\n",
    "        return 1\n",
    "    def negative_branch(x):\n",
    "        return -1\n",
    "    \n",
    "    return jax.lax.cond(x > 0,           # pred\n",
    "                        positive_branch, # true_fn\n",
    "                        negative_branch, # false_fn\n",
    "                        x)               # operands\n",
    "\n",
    "# Execute the JAX function with the same input\n",
    "print(\"Sign of 5 (JAX cond):\", check_sign_jax(5))\n",
    "print(\"Sign of -10 (JAX cond):\", check_sign_jax(-10))"
   ]
  },
  {
   "cell_type": "markdown",
   "id": "5c760cac",
   "metadata": {},
   "source": [
    "In this example, we define a function `check_sign_jax` that checks if a number is positive or negative using `jax.lax.cond`. Depending on whether the input `x` is greater than 0 (positive) or not (negative), the corresponding true or false function is executed, and the result is returned."
   ]
  },
  {
   "cell_type": "markdown",
   "id": "6dec011f",
   "metadata": {},
   "source": [
    "## Why do we need `jax.lax` ?"
   ]
  },
  {
   "cell_type": "markdown",
   "id": "db2c05e1",
   "metadata": {},
   "source": [
    "While JAX provides high-level abstractions for numerical computing, leveraging low-level constructs from `jax.lax` can lead to significant speedups, especially when compared to traditional Python for loops.\n",
    "\n",
    "Moreover, in-order to use the JAX's JIT, sometime its necessary to leverage low-level constructs.\n",
    "\n",
    "###  Importance of Performance Optimization\n",
    "\n",
    "Efficient computation is essential for tackling complex problems in machine learning, scientific computing, and other domains. Performance optimization techniques, such as minimizing computational overhead and maximizing hardware utilization, are critical for achieving faster execution times and scaling to larger datasets or models.\n",
    "\n",
    "Let's take the example from [fori_loop](#Using-jax.lax.fori_loop) section and\n",
    "form a compiled jit functions"
   ]
  },
  {
   "cell_type": "code",
   "execution_count": 15,
   "id": "fa80af02",
   "metadata": {},
   "outputs": [],
   "source": [
    "computation_jit_lax = jax.jit(sum_squares_jax)\n",
    "computation_jit_python = jax.jit(sum_squares, static_argnums=(0, 1))\n",
    "\n",
    "# Compare execution times\n",
    "x = 10000"
   ]
  },
  {
   "cell_type": "markdown",
   "id": "1cf8439f",
   "metadata": {},
   "source": [
    "For `computation_jit_python`, JAX requires that the `static_argnums` parameter be provided because `range` itself is a dynamic operation. By specifying the index of the argument that corresponds to the `range`'s upper bound in `static_argnums`, JAX can treat the `range` as static during compilation, optimizing the loop accordingly. This helps avoid unnecessary recompilation of the loop body for different loop bounds, leading to improved performance."
   ]
  },
  {
   "cell_type": "code",
   "execution_count": 16,
   "id": "9352b428",
   "metadata": {},
   "outputs": [
    {
     "name": "stdout",
     "output_type": "stream",
     "text": [
      "CPU times: user 10.8 ms, sys: 985 µs, total: 11.8 ms\n",
      "Wall time: 10.5 ms\n"
     ]
    }
   ],
   "source": [
    "%time result_jit_lax = computation_jit_lax(0, x)"
   ]
  },
  {
   "cell_type": "code",
   "execution_count": 17,
   "id": "a4086d7b",
   "metadata": {},
   "outputs": [
    {
     "name": "stdout",
     "output_type": "stream",
     "text": [
      "CPU times: user 197 µs, sys: 162 µs, total: 359 µs\n",
      "Wall time: 210 µs\n"
     ]
    }
   ],
   "source": [
    "%time result_jit_lax = computation_jit_lax(0, x)"
   ]
  },
  {
   "cell_type": "markdown",
   "id": "39dafe54",
   "metadata": {},
   "source": [
    "Running the `computation_jit_lax` takes a bit more time in the first call because of the compilation overhead"
   ]
  },
  {
   "cell_type": "code",
   "execution_count": 18,
   "id": "73b272dc",
   "metadata": {},
   "outputs": [
    {
     "name": "stdout",
     "output_type": "stream",
     "text": [
      "CPU times: user 610 µs, sys: 86 µs, total: 696 µs\n",
      "Wall time: 635 µs\n"
     ]
    }
   ],
   "source": [
    "%time result_jit_python = computation_jit_python(0, x)"
   ]
  },
  {
   "cell_type": "code",
   "execution_count": 19,
   "id": "c2af3515",
   "metadata": {},
   "outputs": [
    {
     "name": "stdout",
     "output_type": "stream",
     "text": [
      "CPU times: user 245 µs, sys: 12 µs, total: 257 µs\n",
      "Wall time: 247 µs\n"
     ]
    }
   ],
   "source": [
    "%time result_jit_python = computation_jit_python(0, x)"
   ]
  },
  {
   "cell_type": "markdown",
   "id": "033d39bd",
   "metadata": {},
   "source": [
    "Notice the time difference in 2nd calls of both `computation_jit_lax` and `computation_jit_python`.\n",
    "\n",
    "The function `computation_jit_lax` has clear advantanges over `computation_jit_python` because of two major reasons:\n",
    "- Very fast because of `jax.lax` and low-level optimizations done by jax.\n",
    "- `computation_jit_python` has used `static_argnums` in `jax.jit` which means for every new values of `start` and `end`, `computation_jit_python` will re-compile and evaluate the results which will make it even slower unlike `computation_jit_lax`. Once compiled, `computation_jit_lax` will call the same function irrespective of the value of `start` and `end`.\n",
    "\n",
    "## References\n",
    "\n",
    "\n",
    "- [JAX Documentation](https://jax.readthedocs.io/en/latest/index.html)"
   ]
  }
 ],
 "metadata": {
  "kernelspec": {
   "display_name": "Python 3 (ipykernel)",
   "language": "python",
   "name": "python3"
  },
  "language_info": {
   "codemirror_mode": {
    "name": "ipython",
    "version": 3
   },
   "file_extension": ".py",
   "mimetype": "text/x-python",
   "name": "python",
   "nbconvert_exporter": "python",
   "pygments_lexer": "ipython3",
   "version": "3.10.11"
  }
 },
 "nbformat": 4,
 "nbformat_minor": 5
}
